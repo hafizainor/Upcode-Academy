{
 "cells": [
  {
   "cell_type": "markdown",
   "metadata": {},
   "source": [
    "<h2>Password Generator </h2> \n",
    "\n",
    "This is a simple project to creat a random password Generator"
   ]
  },
  {
   "cell_type": "code",
   "execution_count": 12,
   "metadata": {},
   "outputs": [
    {
     "name": "stdout",
     "output_type": "stream",
     "text": [
      "Enter the length of password (max of 11) : 9\n",
      "efd1b423a\n"
     ]
    }
   ],
   "source": [
    "import random\n",
    "\n",
    "character = [\"a\",\"b\",\"c\", \"d\", \"e\", \"f\", \"g\", \"1\", \"2\", \"3\", \"4\"]\n",
    "# i am predefining the available characters\n",
    "# the generated password must not contain a repeated char\n",
    "random.shuffle(character)\n",
    "\n",
    "char_num = int(input('Enter the length of password (max of 11) : '))\n",
    "if char_num > len(character):\n",
    "    print('Please choose 11 or less.')\n",
    "else:\n",
    "    print(\"\".join(character[:char_num]))"
   ]
  },
  {
   "cell_type": "code",
   "execution_count": null,
   "metadata": {},
   "outputs": [],
   "source": []
  }
 ],
 "metadata": {
  "kernelspec": {
   "display_name": "Python 3",
   "language": "python",
   "name": "python3"
  },
  "language_info": {
   "codemirror_mode": {
    "name": "ipython",
    "version": 3
   },
   "file_extension": ".py",
   "mimetype": "text/x-python",
   "name": "python",
   "nbconvert_exporter": "python",
   "pygments_lexer": "ipython3",
   "version": "3.7.3"
  }
 },
 "nbformat": 4,
 "nbformat_minor": 2
}
