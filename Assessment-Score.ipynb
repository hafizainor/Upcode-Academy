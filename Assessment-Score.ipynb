{
 "cells": [
  {
   "cell_type": "markdown",
   "metadata": {},
   "source": [
    "<h2> Assessment Score </h3>"
   ]
  },
  {
   "cell_type": "code",
   "execution_count": 1,
   "metadata": {},
   "outputs": [
    {
     "name": "stdout",
     "output_type": "stream",
     "text": [
      "What is your name?: Hafi\n",
      "Which class are you from?: 4A\n",
      "What is your Math score?: 60\n",
      "What is your Science score?: 60\n",
      "\n",
      "\n",
      "\n",
      "---------------------------------\n",
      "Name:\t\tHafi\n",
      "Class:\t\t4A\n",
      "---------------------------------\n",
      "Math\t\t|\t60/100\n",
      "Science\t\t|\t60/100\n",
      "---------------------------------\n",
      "Total\t\t|\t120/200\n",
      "---------------------------------\n",
      "\n"
     ]
    }
   ],
   "source": [
    "def total_score(a,b):\n",
    "    return a+b\n",
    "    \n",
    "def total_max_score(a,b):\n",
    "    return a+b\n",
    "    \n",
    "name = input(\"What is your name?: \")\n",
    "your_class = input(\"Which class are you from?: \")\n",
    "math = int(input(\"What is your Math score?: \"))\n",
    "science = int(input(\"What is your Science score?: \"))\n",
    "\n",
    "math_highest = 100\n",
    "science_highest = 100\n",
    "\n",
    "your_total_score = total_score(math,science)\n",
    "max_score = total_max_score(math_highest,science_highest)\n",
    "\n",
    "print(\"\"\"\\n\\n\n",
    "---------------------------------\n",
    "Name:\\t\\t%s\n",
    "Class:\\t\\t%s\n",
    "---------------------------------\n",
    "Math\\t\\t|\\t%d/%d\n",
    "Science\\t\\t|\\t%d/%d\n",
    "---------------------------------\n",
    "Total\\t\\t|\\t%d/%d\n",
    "---------------------------------\n",
    "\"\"\"%(name,your_class,math,math_highest,science,science_highest,your_total_score,max_score))"
   ]
  },
  {
   "cell_type": "code",
   "execution_count": null,
   "metadata": {},
   "outputs": [],
   "source": []
  }
 ],
 "metadata": {
  "kernelspec": {
   "display_name": "Python 3",
   "language": "python",
   "name": "python3"
  },
  "language_info": {
   "codemirror_mode": {
    "name": "ipython",
    "version": 3
   },
   "file_extension": ".py",
   "mimetype": "text/x-python",
   "name": "python",
   "nbconvert_exporter": "python",
   "pygments_lexer": "ipython3",
   "version": "3.7.3"
  }
 },
 "nbformat": 4,
 "nbformat_minor": 2
}
