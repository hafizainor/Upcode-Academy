{
 "cells": [
  {
   "cell_type": "markdown",
   "metadata": {},
   "source": [
    "<h2> Fibonacci </h2>\n",
    "\n",
    "This code will calculate the fibonacci sequence based on the input of the user."
   ]
  },
  {
   "cell_type": "code",
   "execution_count": null,
   "metadata": {},
   "outputs": [
    {
     "name": "stdout",
     "output_type": "stream",
     "text": [
      "Enter a number: 6\n",
      "[1, 1, 2, 3, 5, 8]\n"
     ]
    }
   ],
   "source": [
    "def gen_fib(num):\n",
    "    if num == 0:\n",
    "        return[]\n",
    "    elif num == 1:\n",
    "        return[1]\n",
    "    elif num >= 2:\n",
    "        fib = [1,1]\n",
    "        while len(fib) != num:\n",
    "            fib.append(fib[-1]+fib[-2])  # last index + second last index\n",
    "        return fib\n",
    "    else:\n",
    "        print(\"Please enter a positive number.\")\n",
    "        return[]\n",
    "\n",
    "selection = \"y\"\n",
    "\n",
    "while selection == \"y\":\n",
    "    choice = int(input(\"Enter a number: \"))\n",
    "    print(gen_fib(choice))\n",
    "    selection = input(\"Do you want to try again?: \")\n",
    "    \n",
    "else:\n",
    "    print(\"See you again.\")"
   ]
  },
  {
   "cell_type": "code",
   "execution_count": null,
   "metadata": {},
   "outputs": [],
   "source": []
  }
 ],
 "metadata": {
  "kernelspec": {
   "display_name": "Python 3",
   "language": "python",
   "name": "python3"
  },
  "language_info": {
   "codemirror_mode": {
    "name": "ipython",
    "version": 3
   },
   "file_extension": ".py",
   "mimetype": "text/x-python",
   "name": "python",
   "nbconvert_exporter": "python",
   "pygments_lexer": "ipython3",
   "version": "3.7.3"
  }
 },
 "nbformat": 4,
 "nbformat_minor": 2
}
