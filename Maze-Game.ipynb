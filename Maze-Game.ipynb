{
 "cells": [
  {
   "cell_type": "markdown",
   "metadata": {},
   "source": [
    "<h2> Maze Game </h3>"
   ]
  },
  {
   "cell_type": "code",
   "execution_count": 2,
   "metadata": {},
   "outputs": [
    {
     "name": "stdout",
     "output_type": "stream",
     "text": [
      "You are currently lost in a maze. There are two doors approaching.\n",
      "Choose a door (#1 or #2): 1\n",
      "Door 1 was chosen.\n",
      "\n",
      "    There's a giant bear eating a cheesecake. What will you do?\n",
      "    1. Take the cake\n",
      "    2. Scream at the bear\n",
      "    \n",
      ">.2\n",
      "The bear eats your leg off\n"
     ]
    }
   ],
   "source": [
    "print(\"You are currently lost in a maze. There are two doors approaching.\")\n",
    "door_selected = input(\"Choose a door (#1 or #2): \")\n",
    "\n",
    "#print(\"\\nYou have chosen door #%s.\"%door_selected)\n",
    "\n",
    "if door_selected == \"1\" or door_selected == \"#1\":\n",
    "    print(\"Door 1 was chosen.\")\n",
    "    print(\"\"\"\n",
    "    There's a giant bear eating a cheesecake. What will you do?\n",
    "    1. Take the cake\n",
    "    2. Scream at the bear\n",
    "    \"\"\")\n",
    "    option = input(\">.\")\n",
    "    if option == \"1\":\n",
    "        print(\"The bear eats your face off\")\n",
    "    elif option == \"2\":\n",
    "        print(\"The bear eats your leg off\")\n",
    "    else:\n",
    "        print(\"Well, doing %s, is probably better. The bear walks away.\" %option)\n",
    "        \n",
    "elif door_selected == \"2\" or door_selected == \"#2\":\n",
    "    print(\"Door 2 was chosen.\")\n",
    "else: #else does not have any condition\n",
    "    print(\"\\n\\nGame over!!!\")"
   ]
  },
  {
   "cell_type": "code",
   "execution_count": null,
   "metadata": {},
   "outputs": [],
   "source": []
  }
 ],
 "metadata": {
  "kernelspec": {
   "display_name": "Python 3",
   "language": "python",
   "name": "python3"
  },
  "language_info": {
   "codemirror_mode": {
    "name": "ipython",
    "version": 3
   },
   "file_extension": ".py",
   "mimetype": "text/x-python",
   "name": "python",
   "nbconvert_exporter": "python",
   "pygments_lexer": "ipython3",
   "version": "3.7.3"
  }
 },
 "nbformat": 4,
 "nbformat_minor": 2
}
