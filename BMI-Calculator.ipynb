{
 "cells": [
  {
   "cell_type": "markdown",
   "metadata": {},
   "source": [
    "<h2> BMI Calculator </h3>"
   ]
  },
  {
   "cell_type": "code",
   "execution_count": 1,
   "metadata": {},
   "outputs": [
    {
     "name": "stdout",
     "output_type": "stream",
     "text": [
      "What is your weight in KG?: 40\n",
      "How tall are you in cm?: 151\n",
      "\n",
      "--------------------------\n",
      "Your weight:\t\t40.00kg\n",
      "Your height:\t\t1.51m\n",
      "BMI:\t\t17.54\n",
      "--------------------------\n",
      "\n"
     ]
    }
   ],
   "source": [
    "def BMI_calculator(a,b):\n",
    "    return a/(b**2)\n",
    "\n",
    "weight = float(input(\"What is your weight in KG?: \"))\n",
    "height_cm = float(input(\"How tall are you in cm?: \"))\n",
    "height = height_cm / 100\n",
    "# int and int makes a float\n",
    "print(\"\"\"\n",
    "--------------------------\n",
    "Your weight:\\t\\t%.2fkg\n",
    "Your height:\\t\\t%.2fm\n",
    "BMI:\\t\\t%.2f\n",
    "--------------------------\n",
    "\"\"\"%(weight,height,BMI_calculator(weight,height)))"
   ]
  },
  {
   "cell_type": "code",
   "execution_count": null,
   "metadata": {},
   "outputs": [],
   "source": []
  }
 ],
 "metadata": {
  "kernelspec": {
   "display_name": "Python 3",
   "language": "python",
   "name": "python3"
  },
  "language_info": {
   "codemirror_mode": {
    "name": "ipython",
    "version": 3
   },
   "file_extension": ".py",
   "mimetype": "text/x-python",
   "name": "python",
   "nbconvert_exporter": "python",
   "pygments_lexer": "ipython3",
   "version": "3.7.3"
  }
 },
 "nbformat": 4,
 "nbformat_minor": 2
}
