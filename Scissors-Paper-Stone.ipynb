{
 "cells": [
  {
   "cell_type": "markdown",
   "metadata": {},
   "source": [
    "<h2> Scissors, paper and stone </h2>\n",
    "\n",
    "This code contains the game for Scissors, paper and stone"
   ]
  },
  {
   "cell_type": "code",
   "execution_count": null,
   "metadata": {},
   "outputs": [
    {
     "name": "stdout",
     "output_type": "stream",
     "text": [
      "Player 1: please select your choice: (rock, paper or scissors)>. rock\n",
      "Player 2: please select your choice: (rock, paper or scissors)>. scissors\n",
      "Player 1 wins\n",
      "Input 'c' to continue: >.c\n"
     ]
    }
   ],
   "source": [
    "#this function compares to users input and print out the winner\n",
    "def compare(u1,u2):\n",
    "    if u1 == u2:\n",
    "        print(\"Both of you choose the same option. Its a tie\")\n",
    "        \n",
    "    elif u1 == \"rock\":\n",
    "        if u2 == \"scissors\":\n",
    "            print(\"Player 1 wins\")\n",
    "        elif u2 == \"paper\":\n",
    "            print(\"Player 2 wins\")\n",
    "                  \n",
    "    elif u1 == \"scissors\":\n",
    "        if u2 == \"paper\":\n",
    "            print(\"Player 1 wins\")\n",
    "        elif u2 == \"stone\":\n",
    "            print(\"Player 2 wins\")\n",
    "                  \n",
    "    elif u1 == \"paper\":\n",
    "        if u2 == \"scissors\":\n",
    "            print(\"Player 2 wins\")\n",
    "        elif u2 == \"rock\":\n",
    "            print(\"Player 1 wins\")\n",
    "        \n",
    "    else:\n",
    "        print(\"Invalid option\")\n",
    "    \n",
    "cont = \"c\"\n",
    "while cont == \"c\":\n",
    "    user_1_input = input(\"Player 1: please select your choice: (rock, paper or scissors)>. \")\n",
    "    user_2_input = input(\"Player 2: please select your choice: (rock, paper or scissors)>. \")\n",
    "    compare(user_1_input,user_2_input)\n",
    "\n",
    "    cont = input(\"Input 'c' to continue: >.\")\n",
    "\n",
    "print(\"See you guys again!\")"
   ]
  },
  {
   "cell_type": "code",
   "execution_count": null,
   "metadata": {},
   "outputs": [],
   "source": []
  }
 ],
 "metadata": {
  "kernelspec": {
   "display_name": "Python 3",
   "language": "python",
   "name": "python3"
  },
  "language_info": {
   "codemirror_mode": {
    "name": "ipython",
    "version": 3
   },
   "file_extension": ".py",
   "mimetype": "text/x-python",
   "name": "python",
   "nbconvert_exporter": "python",
   "pygments_lexer": "ipython3",
   "version": "3.7.3"
  }
 },
 "nbformat": 4,
 "nbformat_minor": 2
}
